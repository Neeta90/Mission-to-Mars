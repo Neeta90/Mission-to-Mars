{
 "cells": [
  {
   "cell_type": "code",
   "execution_count": 1,
   "metadata": {},
   "outputs": [],
   "source": [
    "# Dependencies\n",
    "from splinter import Browser\n",
    "#class splinter.driver.DriverAPI\n",
    "from bs4 import BeautifulSoup\n",
    "import requests\n",
    "import pymongo\n",
    "import re\n",
    "import pandas as pd\n"
   ]
  },
  {
   "cell_type": "code",
   "execution_count": 2,
   "metadata": {},
   "outputs": [],
   "source": [
    "# get chromedriver\n",
    "executable_path = {'executable_path': 'chromedriver.exe'}\n",
    "browser = Browser('chrome', **executable_path, headless=False)"
   ]
  },
  {
   "cell_type": "code",
   "execution_count": 3,
   "metadata": {},
   "outputs": [],
   "source": [
    "mission_url = \"https://mars.nasa.gov/news\"\n",
    "browser.visit(mission_url)"
   ]
  },
  {
   "cell_type": "code",
   "execution_count": 4,
   "metadata": {},
   "outputs": [],
   "source": [
    "# Create a Beautiful Soup object\n",
    "html = browser.html\n",
    "soup = BeautifulSoup(html, 'html.parser')\n",
    "#soup.prettify()"
   ]
  },
  {
   "cell_type": "code",
   "execution_count": 5,
   "metadata": {},
   "outputs": [
    {
     "name": "stdout",
     "output_type": "stream",
     "text": [
      "news_title = Space Samples Link NASA's Apollo 11 and Mars 2020\n"
     ]
    }
   ],
   "source": [
    "news_title = soup.find('div', class_='content_title').find('a').text\n",
    "print(f\"news_title = {news_title}\")"
   ]
  },
  {
   "cell_type": "code",
   "execution_count": 6,
   "metadata": {},
   "outputs": [
    {
     "name": "stdout",
     "output_type": "stream",
     "text": [
      "news_p = While separated by half a century, NASA's Apollo 11 and Mars 2020 missions share the same historic goal: returning samples to Earth.\n"
     ]
    }
   ],
   "source": [
    "# collect the latest  Paragraph Text\n",
    "news_p=soup.find('div',class_='article_teaser_body').text.strip()\n",
    "print(f\"news_p = {news_p}\")"
   ]
  },
  {
   "cell_type": "code",
   "execution_count": 7,
   "metadata": {},
   "outputs": [],
   "source": [
    "#for JPL Featured Space Image\n",
    "# get chromedriver\n",
    "#executable_path = {'executable_path': 'chromedriver.exe'}\n",
    "#browser = Browser('chrome', **executable_path, headless=False)\n",
    "JPL_url = \"https://www.jpl.nasa.gov/spaceimages/?search=&category=Mars\"\n",
    "browser.visit(JPL_url)"
   ]
  },
  {
   "cell_type": "code",
   "execution_count": 8,
   "metadata": {},
   "outputs": [],
   "source": [
    "html = browser.html\n",
    "soup = BeautifulSoup(html, 'html.parser')"
   ]
  },
  {
   "cell_type": "code",
   "execution_count": 9,
   "metadata": {},
   "outputs": [
    {
     "name": "stdout",
     "output_type": "stream",
     "text": [
      "featured_image_url = https://www.jpl.nasa.gov/spaceimages/images/wallpaper/PIA08097-1920x1200.jpg\n"
     ]
    }
   ],
   "source": [
    "first_image=soup.find('article')['style'].replace('background-image: url(','').replace(');', '')[1:-1]\n",
    "first_image\n",
    "main_url = 'https://www.jpl.nasa.gov'\n",
    "#concatinating the url and the image url\n",
    "featured_image_url = main_url+first_image\n",
    "print(f\"featured_image_url = {featured_image_url}\")"
   ]
  },
  {
   "cell_type": "code",
   "execution_count": 10,
   "metadata": {},
   "outputs": [],
   "source": [
    "# url for Mars Weather twitter\n",
    "#executable_path = {'executable_path': 'chromedriver.exe'}\n",
    "#browser = Browser('chrome', **executable_path, headless=False)\n",
    "twitter_url = \"https://twitter.com/marswxreport?lang=en\"\n",
    "browser.visit(twitter_url)"
   ]
  },
  {
   "cell_type": "code",
   "execution_count": 11,
   "metadata": {},
   "outputs": [],
   "source": [
    "# Create a Beautiful Soup object\n",
    "html = browser.html\n",
    "soup = BeautifulSoup(html, 'html.parser')"
   ]
  },
  {
   "cell_type": "code",
   "execution_count": 12,
   "metadata": {},
   "outputs": [
    {
     "data": {
      "text/plain": [
       "<div class=\"js-tweet-text-container\">\n",
       "<p class=\"TweetTextSize TweetTextSize--normal js-tweet-text tweet-text\" data-aria-label-part=\"0\" lang=\"en\">InSight sol 251 (2019-08-11) low -101.0ºC (-149.7ºF) high -26.5ºC (-15.8ºF)\n",
       "winds from the SSE at 4.1 m/s (9.2 mph) gusting to 17.5 m/s (39.1 mph)\n",
       "pressure at 7.60 hPa<a class=\"twitter-timeline-link u-hidden\" data-pre-embedded=\"true\" dir=\"ltr\" href=\"https://t.co/9mgFzHl8t3\">pic.twitter.com/9mgFzHl8t3</a></p>\n",
       "</div>"
      ]
     },
     "execution_count": 12,
     "metadata": {},
     "output_type": "execute_result"
    }
   ],
   "source": [
    "# latest Mars weather tweet \n",
    "mars_weather_data= soup.find('div',class_='js-tweet-text-container')\n",
    "mars_weather_data"
   ]
  },
  {
   "cell_type": "code",
   "execution_count": 13,
   "metadata": {},
   "outputs": [
    {
     "name": "stdout",
     "output_type": "stream",
     "text": [
      "mars_weather = InSight sol 251 (2019-08-11) low -101.0ºC (-149.7ºF) high -26.5ºC (-15.8ºF)\n",
      "winds from the SSE at 4.1 m/s (9.2 mph) gusting to 17.5 m/s (39.1 mph)\n",
      "pressure at 7.60 hPapic.twitter.com/9mgFzHl8t3\n"
     ]
    }
   ],
   "source": [
    "mars_weather=mars_weather_data.find('p').text.strip()\n",
    "print(f\"mars_weather = {mars_weather}\")"
   ]
  },
  {
   "cell_type": "code",
   "execution_count": 14,
   "metadata": {},
   "outputs": [
    {
     "data": {
      "text/html": [
       "<div>\n",
       "<style scoped>\n",
       "    .dataframe tbody tr th:only-of-type {\n",
       "        vertical-align: middle;\n",
       "    }\n",
       "\n",
       "    .dataframe tbody tr th {\n",
       "        vertical-align: top;\n",
       "    }\n",
       "\n",
       "    .dataframe thead th {\n",
       "        text-align: right;\n",
       "    }\n",
       "</style>\n",
       "<table border=\"1\" class=\"dataframe\">\n",
       "  <thead>\n",
       "    <tr style=\"text-align: right;\">\n",
       "      <th></th>\n",
       "      <th>Value</th>\n",
       "    </tr>\n",
       "    <tr>\n",
       "      <th>Description</th>\n",
       "      <th></th>\n",
       "    </tr>\n",
       "  </thead>\n",
       "  <tbody>\n",
       "    <tr>\n",
       "      <th>Equatorial Diameter:</th>\n",
       "      <td>6,792 km</td>\n",
       "    </tr>\n",
       "    <tr>\n",
       "      <th>Polar Diameter:</th>\n",
       "      <td>6,752 km</td>\n",
       "    </tr>\n",
       "    <tr>\n",
       "      <th>Mass:</th>\n",
       "      <td>6.39 × 10^23 kg (0.11 Earths)</td>\n",
       "    </tr>\n",
       "    <tr>\n",
       "      <th>Moons:</th>\n",
       "      <td>2 (Phobos &amp; Deimos)</td>\n",
       "    </tr>\n",
       "    <tr>\n",
       "      <th>Orbit Distance:</th>\n",
       "      <td>227,943,824 km (1.38 AU)</td>\n",
       "    </tr>\n",
       "    <tr>\n",
       "      <th>Orbit Period:</th>\n",
       "      <td>687 days (1.9 years)</td>\n",
       "    </tr>\n",
       "    <tr>\n",
       "      <th>Surface Temperature:</th>\n",
       "      <td>-87 to -5 °C</td>\n",
       "    </tr>\n",
       "    <tr>\n",
       "      <th>First Record:</th>\n",
       "      <td>2nd millennium BC</td>\n",
       "    </tr>\n",
       "    <tr>\n",
       "      <th>Recorded By:</th>\n",
       "      <td>Egyptian astronomers</td>\n",
       "    </tr>\n",
       "  </tbody>\n",
       "</table>\n",
       "</div>"
      ],
      "text/plain": [
       "                                              Value\n",
       "Description                                        \n",
       "Equatorial Diameter:                       6,792 km\n",
       "Polar Diameter:                            6,752 km\n",
       "Mass:                 6.39 × 10^23 kg (0.11 Earths)\n",
       "Moons:                          2 (Phobos & Deimos)\n",
       "Orbit Distance:            227,943,824 km (1.38 AU)\n",
       "Orbit Period:                  687 days (1.9 years)\n",
       "Surface Temperature:                   -87 to -5 °C\n",
       "First Record:                     2nd millennium BC\n",
       "Recorded By:                   Egyptian astronomers"
      ]
     },
     "execution_count": 14,
     "metadata": {},
     "output_type": "execute_result"
    }
   ],
   "source": [
    "# url for Mars Facts\n",
    "mars_facts_url =\"https://space-facts.com/mars/\"\n",
    "#use the `read_html` function in Pandas to automatically scrape any tabular data from a page.\n",
    "mars_facts = pd.read_html(mars_facts_url)\n",
    "# find the mars fact dataframe in the list of dataframes(chose second)\n",
    "mars_df = mars_facts[1]\n",
    "mars_df.columns=['Description','Value']\n",
    "# set index for description\n",
    "#mars_df.set_index('Description',inplace = True)\n",
    "mars_df.set_index('Description', inplace=True)\n",
    "#generate HTML tables from DataFrames.\n",
    "data = mars_df.to_html('table.html')\n",
    "data = mars_df.to_dict(orient='records')  # Here's our added param..\n",
    "mars_df\n",
    "#data"
   ]
  },
  {
   "cell_type": "code",
   "execution_count": 15,
   "metadata": {},
   "outputs": [],
   "source": [
    "# url for Mrs Hemispheres\n",
    "executable_path = {'executable_path': 'chromedriver.exe'}\n",
    "browser = Browser('chrome', **executable_path, headless=False)\n",
    "mars_hemispheres_url = \"https://astrogeology.usgs.gov/search/results?q=hemisphere+enhanced&k1=target&v1=Mars\"\n",
    "browser.visit(mars_hemispheres_url)"
   ]
  },
  {
   "cell_type": "code",
   "execution_count": 16,
   "metadata": {},
   "outputs": [],
   "source": [
    "# Create a Beautiful Soup object\n",
    "html = browser.html\n",
    "soup = BeautifulSoup(html, 'html.parser')"
   ]
  },
  {
   "cell_type": "code",
   "execution_count": 17,
   "metadata": {},
   "outputs": [
    {
     "data": {
      "text/plain": [
       "['Cerberus Hemisphere Enhanced',\n",
       " 'Schiaparelli Hemisphere Enhanced',\n",
       " 'Syrtis Major Hemisphere Enhanced',\n",
       " 'Valles Marineris Hemisphere Enhanced']"
      ]
     },
     "execution_count": 17,
     "metadata": {},
     "output_type": "execute_result"
    }
   ],
   "source": [
    "title = soup.find_all('h3')\n",
    "titles = []\n",
    "for i in title:\n",
    "    titles.append(i.text)\n",
    "titles"
   ]
  },
  {
   "cell_type": "code",
   "execution_count": 18,
   "metadata": {},
   "outputs": [
    {
     "name": "stdout",
     "output_type": "stream",
     "text": [
      "mars_hemispheres_url = https://astrogeology.usgs.gov/search/results?q=hemisphere+enhanced&k1=target&v1=Mars/spaceimages/images/wallpaper/PIA08097-1920x1200.jpg/spaceimages/images/wallpaper/PIA08097-1920x1200.jpg/spaceimages/images/wallpaper/PIA08097-1920x1200.jpg/spaceimages/images/wallpaper/PIA08097-1920x1200.jpg/spaceimages/images/wallpaper/PIA08097-1920x1200.jpg/spaceimages/images/wallpaper/PIA08097-1920x1200.jpg\n",
      "\n"
     ]
    }
   ],
   "source": [
    "# the image url for the current Featured Mars Image \n",
    "images = soup.find_all('img', {'src':re.compile('.jpg')})\n",
    "#first_image=images[0]['src']\n",
    "for i in images:\n",
    "    im_ur = i['src']\n",
    "# complete url string for this image.\n",
    "    mars_hemispheres_url =mars_hemispheres_url+first_image \n",
    "print(f\"mars_hemispheres_url = {mars_hemispheres_url}\\n\")"
   ]
  },
  {
   "cell_type": "code",
   "execution_count": 19,
   "metadata": {},
   "outputs": [],
   "source": [
    "# Retrieve the parent divs for all articles\n",
    "results = soup.find_all('li', class_='mixed-feed__item--article')\n",
    "# Loop through results to retrieve article title, header, and timestamp of article\n",
    "for result in results:\n",
    "   title = result.find('h4', class_='mixed-feed__header').text\n",
    "   lede = result.find('h5', class_='mixed-feed__subheader').text\n",
    "   # The time and date of article publication\n",
    "   date = result.find('time')['datetime']\n",
    "   # Slice the datetime string for the date\n",
    "   article_date = date[:10]\n",
    "   # Slice the datetime string for the time\n",
    "   time = date[11:16]\n",
    "   # Determine whether article was published in AM or PM\n",
    "   if (int(time[:2]) >= 13):\n",
    "       meridiem = 'pm'\n",
    "   else:\n",
    "       meridiem = 'am'\n",
    "   # Concatenate time string\n",
    "   time = time + meridiem\n",
    "   print('-----------------')\n",
    "   print(title)\n",
    "   print(lede)\n",
    "   print(article_date)\n",
    "   print(time)\n",
    "   # Dictionary to be inserted into MongoDB\n",
    "   post = {\n",
    "       'title': title,\n",
    "       'lede': lede,\n",
    "       'date': article_date,\n",
    "       'time published': time\n",
    "   }\n",
    "   # Insert dictionary into MongoDB as a document\n",
    "   collection.insert_one(post)\n"
   ]
  },
  {
   "cell_type": "code",
   "execution_count": 20,
   "metadata": {},
   "outputs": [],
   "source": [
    "results = soup.find_all('div', class_='item')\n",
    "#title=result.find_all('h3')\n",
    "title=[]"
   ]
  },
  {
   "cell_type": "code",
   "execution_count": null,
   "metadata": {},
   "outputs": [],
   "source": [
    "# url for Mrs Hemispheres\n",
    "executable_path = {'executable_path': 'chromedriver.exe'}\n",
    "browser = Browser('chrome', **executable_path, headless=False)\n",
    "mars_hemispheres_url = \"https://astrogeology.usgs.gov/search/results?q=hemisphere+enhanced&k1=target&v1=Mars\"\n",
    "browser.visit(mars_hemispheres_url)\n",
    "# Create a Beautiful Soup object\n",
    "html = browser.html\n",
    "soup = BeautifulSoup(html, 'html.parser')\n",
    "title = soup.find_all('h3')\n",
    "titles = []\n",
    "for i in title:\n",
    "    titles.append(i.text)\n",
    "titles\n",
    "# Initialize hemisphere_image_urls list\n",
    "hemi_image_urls = []\n",
    "# Loop through the hemisphere links to obtain the images\n",
    "for h in titles:\n",
    "   # Initialize a dictionary for the hemisphere\n",
    "    hemi_dict = {}\n",
    "   # Click on the link with the corresponding text\n",
    "    browser.click_link_by_partial_text(h)\n",
    "   # Scrape the image url string and store into the dictionary\n",
    "    \n",
    "   # The hemisphere title is already in hemi_strings, so store it into the dictionary\n",
    "    hemi_dict[\"title\"] = h\n",
    "    hemi_dict[\"img_url\"] = browser.find_by_text('Sample')['href']\n",
    "   # Add the dictionary to hemisphere_image_urls\n",
    "    hemi_image_urls.append(hemi_dict)\n",
    "   # Check for output\n",
    "   # print(hemi_image_urls)\n",
    "   # Click the 'Back' button\n",
    "   # browser.click_link_by_partial_text('Back')\n",
    "    browser.back()\n",
    "print({\"title\" : title ,\"img_url\" : hemi_image_urls})"
   ]
  },
  {
   "cell_type": "code",
   "execution_count": 24,
   "metadata": {},
   "outputs": [],
   "source": [
    "try:\n",
    "# Initialize browser \n",
    "          \n",
    "          # Visit hemispheres website through splinter module \n",
    "          executable_path = {'executable_path': 'chromedriver'}\n",
    "          browser = Browser('chrome', **executable_path, headless=False)\n",
    "\n",
    "          mars_hemi_url=\"https://astrogeology.usgs.gov/search/results?q=hemisphere+enhanced&k1=target&v1=Mars\"\n",
    "          browser.visit(mars_hemi_url)\n",
    "          html=browser.html\n",
    "          soup = BeautifulSoup(html, 'html.parser')\n",
    "          items = soup.find_all('div', class_='item')\n",
    "\n",
    "\n",
    "          # Create empty list for hemisphere urls \n",
    "          hemi_url = []\n",
    "\n",
    "           # Store the main_ul \n",
    "          hemispheres_main_url = 'https://astrogeology.usgs.gov' \n",
    "\n",
    "           # Loop through the items previously stored\n",
    "          for i in items: \n",
    "           # Store title\n",
    "            title = i.find('h3').text\n",
    "    \n",
    "           # Store link that leads to full image website\n",
    "            partial_img_url = i.find('a', class_='itemLink product-item')['href']\n",
    "\n",
    "    \n",
    "    # Visit the link that contains the full image website \n",
    "            browser.visit(hemispheres_main_url + partial_img_url)\n",
    "    \n",
    "    # HTML Object of individual hemisphere information website \n",
    "            partial_img_html = browser.html\n",
    "    \n",
    "    # Parse HTML with Beautiful Soup for every individual hemisphere information website \n",
    "            soup = BeautifulSoup( partial_img_html, 'html.parser')\n",
    "    \n",
    "    # Retrieve full image source \n",
    "            img_url = hemispheres_main_url + soup.find('img', class_='wide-image')['src']\n",
    "    \n",
    "    # Append the retreived information into a list of dictionaries \n",
    "            hemi_url.append({\"title\" : title, \"img_url\" : img_url})\n",
    "    \n",
    "finally:\n",
    "            browser.quit()"
   ]
  },
  {
   "cell_type": "code",
   "execution_count": null,
   "metadata": {},
   "outputs": [],
   "source": []
  }
 ],
 "metadata": {
  "kernelspec": {
   "display_name": "Python 3",
   "language": "python",
   "name": "python3"
  },
  "language_info": {
   "codemirror_mode": {
    "name": "ipython",
    "version": 3
   },
   "file_extension": ".py",
   "mimetype": "text/x-python",
   "name": "python",
   "nbconvert_exporter": "python",
   "pygments_lexer": "ipython3",
   "version": "3.7.3"
  }
 },
 "nbformat": 4,
 "nbformat_minor": 2
}
