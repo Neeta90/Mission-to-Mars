{
 "cells": [
  {
   "cell_type": "code",
   "execution_count": null,
   "metadata": {},
   "outputs": [],
   "source": [
    "# Dependencies\n",
    "from splinter import Browser\n",
    "#class splinter.driver.DriverAPI\n",
    "from bs4 import BeautifulSoup\n",
    "import requests\n",
    "import pymongo\n",
    "import re\n",
    "import pandas as pd"
   ]
  },
  {
   "cell_type": "code",
   "execution_count": null,
   "metadata": {},
   "outputs": [],
   "source": [
    "# Dependencies\n",
    "from splinter import Browser\n",
    "#class splinter.driver.DriverAPI\n",
    "from bs4 import BeautifulSoup\n",
    "import requests\n",
    "import pymongo\n",
    "import re\n",
    "import pandas as pd"
   ]
  },
  {
   "cell_type": "code",
   "execution_count": null,
   "metadata": {},
   "outputs": [],
   "source": [
    "url = \"https://mars.nasa.gov/news\"\n",
    "browser.visit(url)"
   ]
  },
  {
   "cell_type": "code",
   "execution_count": null,
   "metadata": {},
   "outputs": [],
   "source": [
    "# Create a Beautiful Soup object\n",
    "html = browser.html\n",
    "soup = BeautifulSoup(html, 'html.parser')\n",
    "#soup.prettify()"
   ]
  },
  {
   "cell_type": "code",
   "execution_count": null,
   "metadata": {},
   "outputs": [],
   "source": [
    "# collect the latest News Title\n",
    "content = soup.find('li', class_='slide')\n",
    "news_title = content.find('a')['href']\n",
    "news_title\n",
    "print(f\"news_title = {news_title}\")"
   ]
  },
  {
   "cell_type": "code",
   "execution_count": null,
   "metadata": {},
   "outputs": [],
   "source": [
    "# collect the latest  Paragraph Text\n",
    "news_p=soup.find('div',class_='article_teaser_body').text.strip()\n",
    "print(f\"news_p = {news_p}\")"
   ]
  },
  {
   "cell_type": "code",
   "execution_count": null,
   "metadata": {},
   "outputs": [],
   "source": [
    "#for JPL Featured Space Image\n",
    "# get chromedriver\n",
    "#executable_path = {'executable_path': 'chromedriver.exe'}\n",
    "#browser = Browser('chrome', **executable_path, headless=False)\n",
    "JPL_url = \"https://www.jpl.nasa.gov/spaceimages/?search=&category=Mars\"\n",
    "browser.visit(JPL_url)"
   ]
  },
  {
   "cell_type": "code",
   "execution_count": null,
   "metadata": {},
   "outputs": [],
   "source": [
    "html = browser.html\n",
    "soup = BeautifulSoup(html, 'html.parser')"
   ]
  },
  {
   "cell_type": "code",
   "execution_count": null,
   "metadata": {},
   "outputs": [],
   "source": [
    "first_image=soup.find('article')['style'].replace('background-image: url(','').replace(');', '')[1:-1]\n",
    "first_image\n",
    "main_url = 'https://www.jpl.nasa.gov'\n",
    "#concatinating the url and the image url\n",
    "featured_image_url = main_url+first_image\n",
    "print(f\"featured_image_url = {featured_image_url}\")"
   ]
  },
  {
   "cell_type": "code",
   "execution_count": null,
   "metadata": {},
   "outputs": [],
   "source": [
    "# url for Mars Weather twitter\n",
    "#executable_path = {'executable_path': 'chromedriver.exe'}\n",
    "#browser = Browser('chrome', **executable_path, headless=False)\n",
    "Mars_Weather_twitter = \"https://twitter.com/marswxreport?lang=en\"\n",
    "browser.visit(Mars_Weather_twitter)"
   ]
  },
  {
   "cell_type": "code",
   "execution_count": null,
   "metadata": {},
   "outputs": [],
   "source": [
    "# Create a Beautiful Soup object\n",
    "html = browser.html\n",
    "soup = BeautifulSoup(html, 'html.parser')"
   ]
  },
  {
   "cell_type": "code",
   "execution_count": null,
   "metadata": {},
   "outputs": [],
   "source": [
    "# latest Mars weather tweet \n",
    "mars_weather_tweet= soup.find('div',class_='js-tweet-text-container')\n",
    "mars_weather_tweet"
   ]
  },
  {
   "cell_type": "code",
   "execution_count": null,
   "metadata": {},
   "outputs": [],
   "source": [
    "mars_weather=mars_weather_tweet.find('p').text.strip()\n",
    "print(f\"mars_weather = {mars_weather}\")"
   ]
  },
  {
   "cell_type": "code",
   "execution_count": null,
   "metadata": {},
   "outputs": [],
   "source": [
    "# url for Mars Facts\n",
    "mars_facts_url =\"https://space-facts.com/mars/\"\n",
    "#use the `read_html` function in Pandas to automatically scrape any tabular data from a page.\n",
    "tables = pd.read_html(mars_facts_url)\n",
    "# find the mars fact dataframe in the list of dataframes(chose second)\n",
    "mars_df = tables[1]\n",
    "mars_df.columns=['Description','Value']\n",
    "# set index for description\n",
    "#mars_df.set_index('Description',inplace = True)\n",
    "mars_df.set_index('Description', inplace=True)\n",
    "#generate HTML tables from DataFrames.\n",
    "mars_df.to_html('table.html')\n",
    "data = mars_df.to_dict(orient='records')  # Here's our added param..\n",
    "mars_df"
   ]
  },
  {
   "cell_type": "code",
   "execution_count": null,
   "metadata": {},
   "outputs": [],
   "source": [
    "# url for Mrs Hemispheres\n",
    "executable_path = {'executable_path': 'chromedriver.exe'}\n",
    "browser = Browser('chrome', **executable_path, headless=False)\n",
    "mars_hemispheres_url = \"https://astrogeology.usgs.gov/search/results?q=hemisphere+enhanced&k1=target&v1=Mars\"\n",
    "browser.visit(mars_hemispheres_url)"
   ]
  },
  {
   "cell_type": "code",
   "execution_count": null,
   "metadata": {},
   "outputs": [],
   "source": [
    "# Create a Beautiful Soup object\n",
    "html = browser.html\n",
    "soup = BeautifulSoup(html, 'html.parser')"
   ]
  },
  {
   "cell_type": "code",
   "execution_count": null,
   "metadata": {},
   "outputs": [],
   "source": [
    "title = soup.find_all('h3')\n",
    "titles = []\n",
    "for i in title:\n",
    "    titles.append(i.text)\n",
    "titles"
   ]
  },
  {
   "cell_type": "code",
   "execution_count": null,
   "metadata": {},
   "outputs": [],
   "source": [
    "# the image url for the current Featured Mars Image \n",
    "images = soup.find_all('img', {'src':re.compile('.jpg')})\n",
    "#first_image=images[0]['src']\n",
    "for i in images:\n",
    "    im_ur = i['src']\n",
    "# complete url string for this image.\n",
    "    mars_hemispheres_url =mars_hemispheres_url+first_image \n",
    "print(f\"mars_hemispheres_url = {mars_hemispheres_url}\\n\")"
   ]
  },
  {
   "cell_type": "code",
   "execution_count": null,
   "metadata": {},
   "outputs": [],
   "source": [
    "# Retrieve the parent divs for all articles\n",
    "results = soup.find_all('li', class_='mixed-feed__item--article')\n",
    "# Loop through results to retrieve article title, header, and timestamp of article\n",
    "for result in results:\n",
    "   title = result.find('h4', class_='mixed-feed__header').text\n",
    "   lede = result.find('h5', class_='mixed-feed__subheader').text\n",
    "   # The time and date of article publication\n",
    "   date = result.find('time')['datetime']\n",
    "   # Slice the datetime string for the date\n",
    "   article_date = date[:10]\n",
    "   # Slice the datetime string for the time\n",
    "   time = date[11:16]\n",
    "   # Determine whether article was published in AM or PM\n",
    "   if (int(time[:2]) >= 13):\n",
    "       meridiem = 'pm'\n",
    "   else:\n",
    "       meridiem = 'am'\n",
    "   # Concatenate time string\n",
    "   time = time + meridiem\n",
    "   print('-----------------')\n",
    "   print(title)\n",
    "   print(lede)\n",
    "   print(article_date)\n",
    "   print(time)\n",
    "   # Dictionary to be inserted into MongoDB\n",
    "   post = {\n",
    "       'title': title,\n",
    "       'lede': lede,\n",
    "       'date': article_date,\n",
    "       'time published': time\n",
    "   }\n",
    "   # Insert dictionary into MongoDB as a document\n",
    "   collection.insert_one(post)\n"
   ]
  },
  {
   "cell_type": "code",
   "execution_count": null,
   "metadata": {},
   "outputs": [],
   "source": [
    "results = soup.find_all('div', class_='item')\n",
    "#title=result.find_all('h3')\n",
    "title=[]"
   ]
  },
  {
   "cell_type": "code",
   "execution_count": null,
   "metadata": {},
   "outputs": [],
   "source": [
    "for r in results:\n",
    "    images = r.find_all('img', {'src':re.compile('.jpg')})\n",
    "    print(image['src']+'\\n')"
   ]
  },
  {
   "cell_type": "code",
   "execution_count": null,
   "metadata": {},
   "outputs": [],
   "source": [
    "# url for Mrs Hemispheres\n",
    "executable_path = {'executable_path': 'chromedriver.exe'}\n",
    "browser = Browser('chrome', **executable_path, headless=False)\n",
    "mars_hemispheres_url = \"https://astrogeology.usgs.gov/search/results?q=hemisphere+enhanced&k1=target&v1=Mars\"\n",
    "browser.visit(mars_hemispheres_url)\n",
    "# Create a Beautiful Soup object\n",
    "html = browser.html\n",
    "soup = BeautifulSoup(html, 'html.parser')\n",
    "title = soup.find_all('h3')\n",
    "titles = []\n",
    "for i in title:\n",
    "    titles.append(i.text)\n",
    "titles\n",
    "# Initialize hemisphere_image_urls list\n",
    "hemi_image_urls = []\n",
    "# Loop through the hemisphere links to obtain the images\n",
    "for h in titles:\n",
    "   # Initialize a dictionary for the hemisphere\n",
    "    hemi_dict = {}\n",
    "   # Click on the link with the corresponding text\n",
    "    browser.click_link_by_partial_text(h)\n",
    "   # Scrape the image url string and store into the dictionary\n",
    "    \n",
    "   # The hemisphere title is already in hemi_strings, so store it into the dictionary\n",
    "    hemi_dict[\"title\"] = h\n",
    "    hemi_dict[\"img_url\"] = browser.find_by_text('Sample')['href']\n",
    "   # Add the dictionary to hemisphere_image_urls\n",
    "    hemi_image_urls.append(hemi_dict)\n",
    "   # Check for output\n",
    "   # print(hemi_image_urls)\n",
    "   # Click the 'Back' button\n",
    "   # browser.click_link_by_partial_text('Back')\n",
    "    browser.back()\n",
    "print({\"title\" : title ,\"img_url\" : hemi_image_urls})"
   ]
  }
 ],
 "metadata": {
  "kernelspec": {
   "display_name": "Python 3",
   "language": "python",
   "name": "python3"
  },
  "language_info": {
   "codemirror_mode": {
    "name": "ipython",
    "version": 3
   },
   "file_extension": ".py",
   "mimetype": "text/x-python",
   "name": "python",
   "nbconvert_exporter": "python",
   "pygments_lexer": "ipython3",
   "version": "3.7.3"
  }
 },
 "nbformat": 4,
 "nbformat_minor": 2
}
